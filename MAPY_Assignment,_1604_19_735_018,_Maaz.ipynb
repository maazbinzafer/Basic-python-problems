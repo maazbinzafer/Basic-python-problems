{
  "nbformat": 4,
  "nbformat_minor": 0,
  "metadata": {
    "colab": {
      "name": "MAPY Assignment, 1604-19-735-018, Maaz",
      "provenance": [],
      "authorship_tag": "ABX9TyMvCYuImRmx353Y3Xamf3SW",
      "include_colab_link": true
    },
    "kernelspec": {
      "name": "python3",
      "display_name": "Python 3"
    }
  },
  "cells": [
    {
      "cell_type": "markdown",
      "metadata": {
        "id": "view-in-github",
        "colab_type": "text"
      },
      "source": [
        "<a href=\"https://colab.research.google.com/github/maazbinzafer/Basic-python-problems/blob/main/MAPY_Assignment%2C_1604_19_735_018%2C_Maaz.ipynb\" target=\"_parent\"><img src=\"https://colab.research.google.com/assets/colab-badge.svg\" alt=\"Open In Colab\"/></a>"
      ]
    },
    {
      "cell_type": "code",
      "metadata": {
        "id": "IMcFF8JPCfkS",
        "colab": {
          "base_uri": "https://localhost:8080/"
        },
        "outputId": "44e19c8e-df35-4db0-bd5c-d7378a2d43de"
      },
      "source": [
        "# 1. (i) Write a program to calculate area and circumference a circle whose radius is given by user.\n",
        "\n",
        "print('\\t**Program to calculate Area and Circumferernce of a circle**\\n')\n",
        "def circle(): \n",
        "  r=float(input('Enter the Radius : '))\n",
        "  area = 3.14*r*r\n",
        "  c = 2*3.14*r\n",
        "  print('\\n Area of circle : {}'.format(area))\n",
        "  print(' circumference of circle : {}'.format(c))\n",
        "circle()"
      ],
      "execution_count": null,
      "outputs": [
        {
          "output_type": "stream",
          "text": [
            "\t**Program to calculate Area and Circumferernce of a circle**\n",
            "\n",
            "Enter the Radius : 11\n",
            "\n",
            " Area of circle : 379.94\n",
            " circumference of circle : 69.08\n"
          ],
          "name": "stdout"
        }
      ]
    },
    {
      "cell_type": "code",
      "metadata": {
        "colab": {
          "base_uri": "https://localhost:8080/"
        },
        "id": "sZNyR9PkCBPo",
        "outputId": "f99d106d-f01b-4d7c-8ed0-2b776d16cb00"
      },
      "source": [
        "# (ii) Write a program, to grade students based upon following GPA \n",
        "          # A: GPA>=7.5; B: GPA between 7.5 and 6.0;\n",
        "           # C: GPA between 6.0 and 4.0; Fail<4.0\n",
        "\n",
        "print('\\t *Grade of a Student*\\n')\n",
        "def grade():\n",
        "  GPA=float(input('Enter the GPA of student : '))\n",
        "  if (GPA>=7.5):\n",
        "    print('\\n\\t A grade')\n",
        "  elif (GPA<7.5 and GPA>=6.0):\n",
        "    print('\\n\\t B grade')\n",
        "  elif (GPA<6.0 and GPA>=4.0):\n",
        "    print('\\n\\t C grade') \n",
        "  else:\n",
        "    print('\\n\\t *FAIL*')\n",
        "grade()\n"
      ],
      "execution_count": null,
      "outputs": [
        {
          "output_type": "stream",
          "text": [
            "\t *Grade of a Student*\n",
            "\n",
            "Enter the GPA of student : 8.0\n",
            "\n",
            "\t A grade\n"
          ],
          "name": "stdout"
        }
      ]
    },
    {
      "cell_type": "code",
      "metadata": {
        "id": "5BZ9XnbxCLvF",
        "colab": {
          "base_uri": "https://localhost:8080/"
        },
        "outputId": "5f9da81a-0cbf-437c-d695-58a6aaa75755"
      },
      "source": [
        "# 2. The record of a student (Name, Roll No., Marks in five subjects and percentage of marks) is stored in the following list: \n",
        "stdnt_Record = ['Alexa','A36', [56,98,99,72,69], 78.8]\n",
        "# Write Python statements to retrieve the following information from the list stdnt_Record.\n",
        "# a) Percentage of the student\n",
        "# b) Marks in the fifth subject\n",
        "# c) Roll no. of the student\n",
        "# d) Change the name of the student from ‘Alexa’ to ‘Emma’\n",
        "\n",
        "stdnt_Record[3]             #.....a"
      ],
      "execution_count": null,
      "outputs": [
        {
          "output_type": "execute_result",
          "data": {
            "text/plain": [
              "78.8"
            ]
          },
          "metadata": {
            "tags": []
          },
          "execution_count": 72
        }
      ]
    },
    {
      "cell_type": "code",
      "metadata": {
        "colab": {
          "base_uri": "https://localhost:8080/"
        },
        "id": "z1FGVFcDNE6Q",
        "outputId": "12461e5e-ce7b-48b0-e5aa-fd587700d7f9"
      },
      "source": [
        "stdnt_Record[2][4]          #.....b"
      ],
      "execution_count": null,
      "outputs": [
        {
          "output_type": "execute_result",
          "data": {
            "text/plain": [
              "69"
            ]
          },
          "metadata": {
            "tags": []
          },
          "execution_count": 73
        }
      ]
    },
    {
      "cell_type": "code",
      "metadata": {
        "colab": {
          "base_uri": "https://localhost:8080/",
          "height": 35
        },
        "id": "ceRp-bIkNI_O",
        "outputId": "f64b319e-8907-4af5-c3be-f3b50a78540f"
      },
      "source": [
        "stdnt_Record[1]             #.....c"
      ],
      "execution_count": null,
      "outputs": [
        {
          "output_type": "execute_result",
          "data": {
            "application/vnd.google.colaboratory.intrinsic+json": {
              "type": "string"
            },
            "text/plain": [
              "'A36'"
            ]
          },
          "metadata": {
            "tags": []
          },
          "execution_count": 74
        }
      ]
    },
    {
      "cell_type": "code",
      "metadata": {
        "colab": {
          "base_uri": "https://localhost:8080/"
        },
        "id": "00MGOL0mNPJs",
        "outputId": "84ac9bf8-3483-4188-acf9-d9594566b4ac"
      },
      "source": [
        "stdnt_Record[0] ='Emma'     #.....d\n",
        "stdnt_Record"
      ],
      "execution_count": null,
      "outputs": [
        {
          "output_type": "execute_result",
          "data": {
            "text/plain": [
              "['Emma', 'A36', [56, 98, 99, 72, 69], 78.8]"
            ]
          },
          "metadata": {
            "tags": []
          },
          "execution_count": 79
        }
      ]
    },
    {
      "cell_type": "code",
      "metadata": {
        "id": "6elUBTqEXrrD",
        "colab": {
          "base_uri": "https://localhost:8080/"
        },
        "outputId": "72446795-0dfc-464f-da64-79bda376ea0d"
      },
      "source": [
        "# 3. (i) Expand the expression (x+y)3\n",
        "\n",
        "from sympy import symbols\n",
        "from sympy import expand\n",
        "\n",
        "x,y=symbols('x,y')\n",
        "\n",
        "expand((x+y)**3)\n"
      ],
      "execution_count": null,
      "outputs": [
        {
          "output_type": "execute_result",
          "data": {
            "text/plain": [
              "x**3 + 3*x**2*y + 3*x*y**2 + y**3"
            ]
          },
          "metadata": {
            "tags": []
          },
          "execution_count": 37
        }
      ]
    },
    {
      "cell_type": "code",
      "metadata": {
        "id": "z2gFoc99aR1c",
        "colab": {
          "base_uri": "https://localhost:8080/"
        },
        "outputId": "d7ca19d9-73dc-4574-c0fc-c89e0c99570f"
      },
      "source": [
        "# (ii) Factorize the expression: x2+5x+6\n",
        "\n",
        "from sympy import factor\n",
        "\n",
        "factor(x**2+5*x+6)\n"
      ],
      "execution_count": null,
      "outputs": [
        {
          "output_type": "execute_result",
          "data": {
            "text/plain": [
              "(x + 2)*(x + 3)"
            ]
          },
          "metadata": {
            "tags": []
          },
          "execution_count": 44
        }
      ]
    },
    {
      "cell_type": "code",
      "metadata": {
        "colab": {
          "base_uri": "https://localhost:8080/"
        },
        "id": "3Z6u01l_EAHB",
        "outputId": "99927ee3-9b39-4148-cdab-4d8a4e7b31c5"
      },
      "source": [
        "# (iii) Solve the simultaneous equations:\n",
        "                # 2x+3y=6\n",
        "                # 3x+2y=12\n",
        "\n",
        "from sympy import solve\n",
        "\n",
        "exp1=2*x+3*y-6\n",
        "exp2=3*x+2*y-12\n",
        "\n",
        "solve((exp1,exp2),dict=True)"
      ],
      "execution_count": null,
      "outputs": [
        {
          "output_type": "execute_result",
          "data": {
            "text/plain": [
              "[{x: 24/5, y: -6/5}]"
            ]
          },
          "metadata": {
            "tags": []
          },
          "execution_count": 80
        }
      ]
    },
    {
      "cell_type": "code",
      "metadata": {
        "id": "6XWWJ79sCMc1",
        "colab": {
          "base_uri": "https://localhost:8080/"
        },
        "outputId": "6ae7cff4-8468-4575-9606-12235ca67d65"
      },
      "source": [
        "# 4. Define a function to convert one given currency to 5 different currencies of your choice.\n",
        "\n",
        "def currency_converter():\n",
        "  print('\\t **Welcome to Currency Converter** ')\n",
        "  ind=float(input('\\nEnter amount in Indian Rupees : '))\n",
        "  usd=ind*0.014\n",
        "  bah=ind*0.0052\n",
        "  kuw=ind*0.0042\n",
        "  qat=ind*0.050\n",
        "  sau=ind*0.052\n",
        "\n",
        "  print('\\n Amount in US Dollar     : {}'.format(usd))\n",
        "  print(' Amount in Bahraini Dinar: {}'.format(bah))\n",
        "  print(' Amount in Kuwaiti Dinar : {}'.format(kuw))\n",
        "  print(' Amount in Qatari Riyal  : {}'.format(qat))\n",
        "  print(' Amount in Saudi Riyal   : {}'.format(sau))\n",
        "  \n",
        "currency_converter()\n",
        "print('\\n\\tThank You.')\n"
      ],
      "execution_count": null,
      "outputs": [
        {
          "output_type": "stream",
          "text": [
            "\t **Welcome to Currency Converter** \n",
            "\n",
            "Enter amount in Indian Rupees : 5000\n",
            "\n",
            " Amount in US Dollar     : 70.0\n",
            " Amount in Bahraini Dinar: 26.0\n",
            " Amount in Kuwaiti Dinar : 21.0\n",
            " Amount in Qatari Riyal  : 250.0\n",
            " Amount in Saudi Riyal   : 260.0\n",
            "\n",
            "\tThank You.\n"
          ],
          "name": "stdout"
        }
      ]
    },
    {
      "cell_type": "code",
      "metadata": {
        "id": "7iQ1Kvlzshu9",
        "colab": {
          "base_uri": "https://localhost:8080/",
          "height": 373
        },
        "outputId": "13906c03-5484-401b-c6fe-b25bbf5a9edf"
      },
      "source": [
        "# 5. The average rainfall in Hyderabad city in past 10 years.\n",
        "\n",
        "print('\\t\\t\\t **Line graph**\\n')\n",
        "\n",
        "import matplotlib.pyplot as plt\n",
        "%matplotlib inline \n",
        "\n",
        "plt.title('\\nAverage rainfall in Hyderabad City in past 10 years')\n",
        "plt.xlabel('\\nYear')\n",
        "plt.ylabel('Rainfall (mm)\\n')\n",
        "hyd_rainfall=[108,112,119,107,120,128,135,137,150,175]\n",
        "year=[2011,2012,2013,2014,2015,2016,2017,2018,2019,2020]\n",
        "plt.plot(year,hyd_rainfall,marker='o')\n",
        "plt.legend(labels=['hyd_rainfall'])\n",
        "\n",
        "print('\"From this graph we can infer that rainfall in hyderabad have been increased rapidly.\"')"
      ],
      "execution_count": null,
      "outputs": [
        {
          "output_type": "stream",
          "text": [
            "\t\t\t **Line graph**\n",
            "\n",
            "\"From this graph we can infer that rainfall in hyderabad have been increased rapidly.\"\n"
          ],
          "name": "stdout"
        },
        {
          "output_type": "display_data",
          "data": {
            "image/png": "[encoded data removed]",
            "text/plain": [
              "<Figure size 432x288 with 1 Axes>"
            ]
          },
          "metadata": {
            "tags": [],
            "needs_background": "light"
          }
        }
      ]
    },
    {
      "cell_type": "code",
      "metadata": {
        "colab": {
          "base_uri": "https://localhost:8080/",
          "height": 373
        },
        "id": "xaqcBSTPj0v7",
        "outputId": "422fa051-b818-4910-9894-d89773f2dec4"
      },
      "source": [
        "print('\\t\\t\\t **Bar graph**\\n')\n",
        "\n",
        "plt.bar(year,hyd_rainfall)\n",
        "\n",
        "plt.title('\\nAverage rainfall in Hyderabad City in past 10 years')\n",
        "plt.xlabel('\\nYear')\n",
        "plt.ylabel('Rainfall (mm)\\n')\n",
        "hyd_rainfall=[108,112,119,107,120,128,135,137,150,175]\n",
        "range=(2011,2020)\n",
        "plt.legend(labels=['hyd_rainfall'])\n",
        "\n",
        "print('\"From this graph we can infer that rainfall in hyderabad have been increased rapidly.\"')"
      ],
      "execution_count": null,
      "outputs": [
        {
          "output_type": "stream",
          "text": [
            "\t\t\t **Bar graph**\n",
            "\n",
            "\"From this graph we can infer that rainfall in hyderabad have been increased rapidly.\"\n"
          ],
          "name": "stdout"
        },
        {
          "output_type": "display_data",
          "data": {
            "image/png": "[encoded data removed]",
            "text/plain": [
              "<Figure size 432x288 with 1 Axes>"
            ]
          },
          "metadata": {
            "tags": [],
            "needs_background": "light"
          }
        }
      ]
    }
  ]
}